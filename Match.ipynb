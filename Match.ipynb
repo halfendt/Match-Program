{
 "cells": [
  {
   "cell_type": "code",
   "execution_count": 101,
   "metadata": {},
   "outputs": [],
   "source": [
    "# Import modules\n",
    "import pandas as pd\n",
    "import numpy as np"
   ]
  },
  {
   "cell_type": "code",
   "execution_count": 102,
   "metadata": {},
   "outputs": [
    {
     "data": {
      "text/html": [
       "<div>\n",
       "<style scoped>\n",
       "    .dataframe tbody tr th:only-of-type {\n",
       "        vertical-align: middle;\n",
       "    }\n",
       "\n",
       "    .dataframe tbody tr th {\n",
       "        vertical-align: top;\n",
       "    }\n",
       "\n",
       "    .dataframe thead th {\n",
       "        text-align: right;\n",
       "    }\n",
       "</style>\n",
       "<table border=\"1\" class=\"dataframe\">\n",
       "  <thead>\n",
       "    <tr style=\"text-align: right;\">\n",
       "      <th></th>\n",
       "      <th>0</th>\n",
       "    </tr>\n",
       "  </thead>\n",
       "  <tbody>\n",
       "    <tr>\n",
       "      <th>0</th>\n",
       "      <td>340449.273</td>\n",
       "    </tr>\n",
       "    <tr>\n",
       "      <th>1</th>\n",
       "      <td>352599.570</td>\n",
       "    </tr>\n",
       "    <tr>\n",
       "      <th>2</th>\n",
       "      <td>364748.958</td>\n",
       "    </tr>\n",
       "    <tr>\n",
       "      <th>3</th>\n",
       "      <td>376897.412</td>\n",
       "    </tr>\n",
       "    <tr>\n",
       "      <th>4</th>\n",
       "      <td>389044.897</td>\n",
       "    </tr>\n",
       "    <tr>\n",
       "      <th>5</th>\n",
       "      <td>401191.381</td>\n",
       "    </tr>\n",
       "  </tbody>\n",
       "</table>\n",
       "</div>"
      ],
      "text/plain": [
       "            0\n",
       "0  340449.273\n",
       "1  352599.570\n",
       "2  364748.958\n",
       "3  376897.412\n",
       "4  389044.897\n",
       "5  401191.381"
      ]
     },
     "execution_count": 102,
     "metadata": {},
     "output_type": "execute_result"
    }
   ],
   "source": [
    "# Read in data, and display frequencies\n",
    "dat = pd.read_table('OCS_Freqs.txt', header=None)\n",
    "data = dat.sort_values(by=0).reset_index(drop=True)\n",
    "length = len(data)\n",
    "data"
   ]
  },
  {
   "cell_type": "code",
   "execution_count": 105,
   "metadata": {},
   "outputs": [],
   "source": [
    "# Enter in ranges for B, D, and J\n",
    "# Constant in MHz\n",
    "# Frequeny tolerance set to 1 MHz\n",
    "B_lower = 5000\n",
    "B_upper = 7000\n",
    "D_lower = 0.001\n",
    "D_upper = 0.050\n",
    "J_1 = 25\n",
    "J_2 = 35\n",
    "freq = data[0]\n",
    "freq_tol = 1"
   ]
  },
  {
   "cell_type": "code",
   "execution_count": 106,
   "metadata": {},
   "outputs": [
    {
     "name": "stdout",
     "output_type": "stream",
     "text": [
      "J = 24\n",
      "J = 25\n",
      "J = 26\n",
      "J = 27\n",
      "328298.101 340449.273 352599.570 364748.961\n",
      "B = 6081.492 D = 0.001302\n",
      "fits nicely to 364748.958\n",
      "J = 28\n",
      "340449.276 352599.570 364748.958 376897.409\n",
      "B = 6081.493 D = 0.001302\n",
      "fits nicely to 340449.273\n",
      "fits nicely to 376897.412\n",
      "J = 29\n",
      "352599.567 364748.958 376897.412 389044.898\n",
      "B = 6081.492 D = 0.001302\n",
      "fits nicely to 352599.570\n",
      "fits nicely to 389044.897\n",
      "J = 30\n",
      "364748.959 376897.412 389044.897 401191.382\n",
      "B = 6081.492 D = 0.001302\n",
      "fits nicely to 364748.958\n",
      "J = 31\n",
      "376897.413 389044.897 401191.381 413336.834\n",
      "B = 6081.493 D = 0.001302\n",
      "fits nicely to 376897.412\n",
      "J = 32\n",
      "J = 33\n"
     ]
    }
   ],
   "source": [
    "for J in np.arange(J_1, J_2):\n",
    "    print('J = {}'.format(J-1))\n",
    "    for x in range(length-1, 0, -1):\n",
    "        for y in range(0, x):\n",
    "            if y == x: continue\n",
    "            d = (freq[y]-freq[x]*J/(J+1))/(((J+1)**2*J*4)-4*J**3)\n",
    "            b = (freq[y] + 4*d*(J)**3)/(2*(J))\n",
    "            fcal0 = 2*b*(J-1) - 4*d*(J-1)**3\n",
    "            fcal3 = 2*b*(J+2) - 4*d*(J+2)**3\n",
    "            if B_upper > b > B_lower and D_upper > d > D_lower:\n",
    "                print('{:.3f} {:.3f} {:.3f} {:.3f}'.format(fcal0, freq[y], freq[x], fcal3))\n",
    "                print('B = {:.3f}'.format(b), 'D = {:.6f}'.format(d))\n",
    "                for p in range(0, length-1):\n",
    "                    if (fcal0 + freq_tol) > freq[p] > (fcal0 - freq_tol):\n",
    "                        print('fits nicely to {:.3f}'.format(freq[p]))\n",
    "                    elif (fcal3 + freq_tol) > freq[p] > (fcal3 - freq_tol):\n",
    "                        print('fits nicely to {:.3f}'.format(freq[p]))\n",
    "                    else:\n",
    "                        continue"
   ]
  },
  {
   "cell_type": "code",
   "execution_count": null,
   "metadata": {},
   "outputs": [],
   "source": []
  }
 ],
 "metadata": {
  "kernelspec": {
   "display_name": "Python 3",
   "language": "python",
   "name": "python3"
  },
  "language_info": {
   "codemirror_mode": {
    "name": "ipython",
    "version": 3
   },
   "file_extension": ".py",
   "mimetype": "text/x-python",
   "name": "python",
   "nbconvert_exporter": "python",
   "pygments_lexer": "ipython3",
   "version": "3.6.6"
  }
 },
 "nbformat": 4,
 "nbformat_minor": 2
}
